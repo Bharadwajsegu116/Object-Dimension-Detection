{
 "cells": [
  {
   "cell_type": "code",
   "execution_count": 7,
   "metadata": {},
   "outputs": [],
   "source": [
    "from scipy.spatial import distance as dist\n",
    "from imutils import perspective\n",
    "from imutils import contours\n",
    "import numpy as np\n",
    "import argparse\n",
    "import imutils\n",
    "import cv2"
   ]
  },
  {
   "cell_type": "code",
   "execution_count": 8,
   "metadata": {},
   "outputs": [],
   "source": [
    "def midpoint(ptA, ptB):\n",
    "\treturn ((ptA[0] + ptB[0]) * 0.5, (ptA[1] + ptB[1]) * 0.5)"
   ]
  },
  {
   "cell_type": "code",
   "execution_count": 9,
   "metadata": {},
   "outputs": [],
   "source": [
    "# load the image, convert it to grayscale, and blur it slightly\n",
    "image = cv2.imread(\"example_04.jpg\",-1)\n",
    "gray = cv2.cvtColor(image, cv2.COLOR_BGR2GRAY)\n",
    "gray = cv2.GaussianBlur(gray, (7, 7), 0)"
   ]
  },
  {
   "cell_type": "code",
   "execution_count": 10,
   "metadata": {},
   "outputs": [],
   "source": [
    "# perform edge detection, then perform a dilation + erosion to\n",
    "# close gaps in between object edges\n",
    "edged = cv2.Canny(gray, 50, 100)\n",
    "edged = cv2.dilate(edged, None, iterations=1)\n",
    "edged = cv2.erode(edged, None, iterations=1)"
   ]
  },
  {
   "cell_type": "code",
   "execution_count": 11,
   "metadata": {},
   "outputs": [],
   "source": [
    "# find contours in the edge map\n",
    "cnts = cv2.findContours(edged.copy(), cv2.RETR_EXTERNAL, cv2.CHAIN_APPROX_SIMPLE)\n",
    "cnts = imutils.grab_contours(cnts)\n",
    "#print(length(cnts))"
   ]
  },
  {
   "cell_type": "code",
   "execution_count": 13,
   "metadata": {},
   "outputs": [],
   "source": [
    "# sort the contours from left-to-right and initialize the\n",
    "# 'pixels per metric' calibration variable\n",
    "(cnts, _) = contours.sort_contours(cnts)\n",
    "pixelsPerMetric = None\n",
    "#print(length(cnts))"
   ]
  },
  {
   "cell_type": "code",
   "execution_count": 14,
   "metadata": {},
   "outputs": [],
   "source": [
    "# loop over the contours individually\n",
    "for c in cnts:\n",
    "    \t# if the contour is not sufficiently large, ignore it\n",
    "    \tif cv2.contourArea(c) < 100:\n",
    "    \t\tcontinue\n",
    "    \n",
    "    \t# compute the rotated bounding box of the contour\n",
    "    \torig = image.copy()\n",
    "    \tbox = cv2.minAreaRect(c)\n",
    "    \tbox = cv2.cv.BoxPoints(box) if imutils.is_cv2() else cv2.boxPoints(box)\n",
    "    \tbox = np.array(box, dtype=\"int\")\n",
    "    \n",
    "    \t# order the points in the contour such that they appear\n",
    "    \t# in top-left, top-right, bottom-right, and bottom-left\n",
    "    \t# order, then draw the outline of the rotated bounding\n",
    "    \t# box\n",
    "    \tbox = perspective.order_points(box)\n",
    "    \tcv2.drawContours(orig, [box.astype(\"int\")], -1, (0, 255, 0), 2)\n",
    "    \n",
    "    \t# loop over the original points and draw them\n",
    "    \tfor (x, y) in box:\n",
    "    \t\tcv2.circle(orig, (int(x), int(y)), 5, (0, 0, 255), -1)\n",
    "    \n",
    "    \t# unpack the ordered bounding box, then compute the midpoint\n",
    "    \t# between the top-left and top-right coordinates, followed by\n",
    "    \t# the midpoint between bottom-left and bottom-right coordinates\n",
    "    \t(tl, tr, br, bl) = box\n",
    "    \t(tltrX, tltrY) = midpoint(tl, tr)\n",
    "    \t(blbrX, blbrY) = midpoint(bl, br)\n",
    "    \n",
    "    \t# compute the midpoint between the top-left and top-right points,\n",
    "    \t# followed by the midpoint between the top-righ and bottom-right\n",
    "    \t(tlblX, tlblY) = midpoint(tl, bl)\n",
    "    \t(trbrX, trbrY) = midpoint(tr, br)\n",
    "    \n",
    "    \t# draw the midpoints on the image\n",
    "    \tcv2.circle(orig, (int(tltrX), int(tltrY)), 5, (255, 0, 0), -1)\n",
    "    \tcv2.circle(orig, (int(blbrX), int(blbrY)), 5, (255, 0, 0), -1)\n",
    "    \tcv2.circle(orig, (int(tlblX), int(tlblY)), 5, (255, 0, 0), -1)\n",
    "    \tcv2.circle(orig, (int(trbrX), int(trbrY)), 5, (255, 0, 0), -1)\n",
    "    \n",
    "    \t# draw lines between the midpoints\n",
    "    \tcv2.line(orig, (int(tltrX), int(tltrY)), (int(blbrX), int(blbrY)),\n",
    "    \t\t(255, 0, 255), 2)\n",
    "    \tcv2.line(orig, (int(tlblX), int(tlblY)), (int(trbrX), int(trbrY)),\n",
    "    \t\t(255, 0, 255), 2)\n",
    "    \n",
    "    \t# compute the Euclidean distance between the midpoints\n",
    "    \tdA = dist.euclidean((tltrX, tltrY), (blbrX, blbrY))\n",
    "    \tdB = dist.euclidean((tlblX, tlblY), (trbrX, trbrY))\n",
    "    \n",
    "    \t# if the pixels per metric has not been initialized, then\n",
    "    \t# compute it as the ratio of pixels to supplied metric\n",
    "    \t# (in this case, inches)\n",
    "    \tif pixelsPerMetric is None:\n",
    "    \t\tpixelsPerMetric = dB / 3.5\n",
    "    \n",
    "    \t# compute the size of the object\n",
    "    \tdimA = dA / pixelsPerMetric\n",
    "    \tdimB = dB / pixelsPerMetric\n",
    "    \n",
    "    \t# draw the object sizes on the image\n",
    "    \tcv2.putText(orig, \"{:.1f}in\".format(dimA),\n",
    "    \t\t(int(tltrX - 15), int(tltrY - 10)), cv2.FONT_HERSHEY_SIMPLEX,\n",
    "    \t\t0.65, (255, 255, 255), 2)\n",
    "    \tcv2.putText(orig, \"{:.1f}in\".format(dimB),\n",
    "    \t\t(int(trbrX + 10), int(trbrY)), cv2.FONT_HERSHEY_SIMPLEX,\n",
    "    \t\t0.65, (255, 255, 255), 2)\n",
    "    \n",
    "    \t# show the output image\n",
    "    \tcv2.imshow(\"Image\", orig)\n",
    "    \tcv2.waitKey(0)"
   ]
  },
  {
   "cell_type": "code",
   "execution_count": null,
   "metadata": {},
   "outputs": [],
   "source": []
  },
  {
   "cell_type": "code",
   "execution_count": null,
   "metadata": {},
   "outputs": [],
   "source": []
  },
  {
   "cell_type": "code",
   "execution_count": 6,
   "metadata": {},
   "outputs": [],
   "source": []
  },
  {
   "cell_type": "code",
   "execution_count": null,
   "metadata": {},
   "outputs": [],
   "source": []
  }
 ],
 "metadata": {
  "kernelspec": {
   "display_name": "Python 3",
   "language": "python",
   "name": "python3"
  },
  "language_info": {
   "codemirror_mode": {
    "name": "ipython",
    "version": 3
   },
   "file_extension": ".py",
   "mimetype": "text/x-python",
   "name": "python",
   "nbconvert_exporter": "python",
   "pygments_lexer": "ipython3",
   "version": "3.6.5"
  }
 },
 "nbformat": 4,
 "nbformat_minor": 2
}
